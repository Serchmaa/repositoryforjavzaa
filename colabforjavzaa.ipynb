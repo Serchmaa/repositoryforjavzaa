{
  "nbformat": 4,
  "nbformat_minor": 0,
  "metadata": {
    "colab": {
      "provenance": [],
      "authorship_tag": "ABX9TyPCkkGZm0IVjYgQF511g+1z",
      "include_colab_link": true
    },
    "kernelspec": {
      "name": "python3",
      "display_name": "Python 3"
    },
    "language_info": {
      "name": "python"
    }
  },
  "cells": [
    {
      "cell_type": "markdown",
      "metadata": {
        "id": "view-in-github",
        "colab_type": "text"
      },
      "source": [
        "<a href=\"https://colab.research.google.com/github/Serchmaa/repositoryforjavzaa/blob/main/colabforjavzaa.ipynb\" target=\"_parent\"><img src=\"https://colab.research.google.com/assets/colab-badge.svg\" alt=\"Open In Colab\"/></a>"
      ]
    },
    {
      "cell_type": "code",
      "execution_count": null,
      "metadata": {
        "id": "KXK_i3BXl1ET"
      },
      "outputs": [],
      "source": [
        "from google.colab import drive\n",
        "from datetime import datetime\n",
        "import os"
      ]
    },
    {
      "cell_type": "code",
      "source": [
        "# Mount Google Drive\n",
        "drive.mount('/content/drive')"
      ],
      "metadata": {
        "colab": {
          "base_uri": "https://localhost:8080/"
        },
        "id": "pbW1P-kcnAdB",
        "outputId": "14efcec2-c71e-49a3-ae7f-30367107e97c"
      },
      "execution_count": null,
      "outputs": [
        {
          "output_type": "stream",
          "name": "stdout",
          "text": [
            "Mounted at /content/drive\n"
          ]
        }
      ]
    },
    {
      "cell_type": "code",
      "source": [
        "filename = \"test_file.txt\"\n",
        "\n",
        "def write_to_file():\n",
        "    file_path = f'/content/drive/My Drive/{filename}'\n",
        "    now = datetime.now().strftime('%Y-%m-%d %H:%M:%S')\n",
        "\n",
        "    with open(file_path, 'a') as file:\n",
        "      file.write(f\"Updated {now}\\n\")\n",
        "\n",
        "# write to file periodically\n",
        "write_to_file()"
      ],
      "metadata": {
        "id": "w6z7Pe0CmpX-"
      },
      "execution_count": null,
      "outputs": []
    },
    {
      "cell_type": "code",
      "source": [
        "!rm '/content/drive/My Drive/test_file2.txt'"
      ],
      "metadata": {
        "id": "YXYHZ2b4n_Ka"
      },
      "execution_count": null,
      "outputs": []
    },
    {
      "cell_type": "code",
      "source": [],
      "metadata": {
        "id": "Q38nFsupohUg"
      },
      "execution_count": null,
      "outputs": []
    }
  ]
}